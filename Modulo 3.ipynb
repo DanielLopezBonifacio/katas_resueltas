{
 "cells": [
  {
   "cell_type": "markdown",
   "metadata": {},
   "source": [
    "## ¡¡ADVERTENCIA DE ASTEROIDE!!"
   ]
  },
  {
   "cell_type": "code",
   "execution_count": 3,
   "metadata": {},
   "outputs": [
    {
     "name": "stdout",
     "output_type": "stream",
     "text": [
      "¡Peligo!¡Se acerca un asteroide!\n"
     ]
    }
   ],
   "source": [
    "velocidad=49\n",
    "if velocidad > 25:\n",
    "    print(\"¡Peligo!¡Se acerca un asteroide!\")\n",
    "else:\n",
    "    print(\"Hoy no hay nada que temer :D\")"
   ]
  },
  {
   "cell_type": "code",
   "execution_count": 12,
   "metadata": {},
   "outputs": [
    {
     "name": "stdout",
     "output_type": "stream",
     "text": [
      "Nada que ver señores\n"
     ]
    }
   ],
   "source": [
    "velocidad=19\n",
    "if velocidad>=20:\n",
    "    print(\"!Worales! ¿Ya viste esas luces? :o\")\n",
    "elif   velocidad<=0:\n",
    "    print(\"Bueno ¿Quién tiene hambre?\")\n",
    "else:\n",
    "    print(\"Nada que ver señores\")"
   ]
  },
  {
   "cell_type": "code",
   "execution_count": 15,
   "metadata": {},
   "outputs": [
    {
     "name": "stdout",
     "output_type": "stream",
     "text": [
      "¡Peligro! Un asteroide muy peligroso se aproxima\n"
     ]
    }
   ],
   "source": [
    "velocidad=30\n",
    "tamaño=28\n",
    "if velocidad>25 and tamaño>25:\n",
    "    print(\"¡Peligro! Un asteroide muy peligroso se aproxima\")\n",
    "elif velocidad>=20:\n",
    "    print(\"Si mira por su ventana podra ver unas hermosas y nada temibles lucesitas\")\n",
    "elif tamaño<25:\n",
    "    print(\"Bueno, aqui no hay nada que ver\")\n",
    "else:\n",
    "    print(\"Nada que temer por el dia de hoy\")"
   ]
  }
 ],
 "metadata": {
  "interpreter": {
   "hash": "5322818cae43cf6468214953b049884cb6ca7e8071f01fca2a6d6ce521d192bd"
  },
  "kernelspec": {
   "display_name": "Python 3.10.0 64-bit",
   "language": "python",
   "name": "python3"
  },
  "language_info": {
   "codemirror_mode": {
    "name": "ipython",
    "version": 3
   },
   "file_extension": ".py",
   "mimetype": "text/x-python",
   "name": "python",
   "nbconvert_exporter": "python",
   "pygments_lexer": "ipython3",
   "version": "3.10.0"
  },
  "orig_nbformat": 4
 },
 "nbformat": 4,
 "nbformat_minor": 2
}
